{
 "cells": [
  {
   "cell_type": "code",
   "execution_count": 60,
   "metadata": {},
   "outputs": [],
   "source": [
    "import pandas as pd"
   ]
  },
  {
   "cell_type": "markdown",
   "metadata": {},
   "source": [
    "# Load and Transform"
   ]
  },
  {
   "cell_type": "markdown",
   "metadata": {},
   "source": [
    "## Load"
   ]
  },
  {
   "cell_type": "code",
   "execution_count": 61,
   "metadata": {},
   "outputs": [],
   "source": [
    "df_net = pd.read_csv('./dataset/netflix daily top 10.csv')"
   ]
  },
  {
   "cell_type": "code",
   "execution_count": 62,
   "metadata": {},
   "outputs": [
    {
     "data": {
      "text/html": [
       "<div>\n",
       "<style scoped>\n",
       "    .dataframe tbody tr th:only-of-type {\n",
       "        vertical-align: middle;\n",
       "    }\n",
       "\n",
       "    .dataframe tbody tr th {\n",
       "        vertical-align: top;\n",
       "    }\n",
       "\n",
       "    .dataframe thead th {\n",
       "        text-align: right;\n",
       "    }\n",
       "</style>\n",
       "<table border=\"1\" class=\"dataframe\">\n",
       "  <thead>\n",
       "    <tr style=\"text-align: right;\">\n",
       "      <th></th>\n",
       "      <th>As of</th>\n",
       "      <th>Rank</th>\n",
       "      <th>Year to Date Rank</th>\n",
       "      <th>Last Week Rank</th>\n",
       "      <th>Title</th>\n",
       "      <th>Type</th>\n",
       "      <th>Netflix Exclusive</th>\n",
       "      <th>Netflix Release Date</th>\n",
       "      <th>Days In Top 10</th>\n",
       "      <th>Viewership Score</th>\n",
       "    </tr>\n",
       "  </thead>\n",
       "  <tbody>\n",
       "    <tr>\n",
       "      <th>0</th>\n",
       "      <td>2020-04-01</td>\n",
       "      <td>1</td>\n",
       "      <td>1</td>\n",
       "      <td>1</td>\n",
       "      <td>Tiger King: Murder, Mayhem …</td>\n",
       "      <td>TV Show</td>\n",
       "      <td>Yes</td>\n",
       "      <td>Mar 20, 2020</td>\n",
       "      <td>9</td>\n",
       "      <td>90</td>\n",
       "    </tr>\n",
       "    <tr>\n",
       "      <th>1</th>\n",
       "      <td>2020-04-01</td>\n",
       "      <td>2</td>\n",
       "      <td>2</td>\n",
       "      <td>-</td>\n",
       "      <td>Ozark</td>\n",
       "      <td>TV Show</td>\n",
       "      <td>Yes</td>\n",
       "      <td>Jul 21, 2017</td>\n",
       "      <td>5</td>\n",
       "      <td>45</td>\n",
       "    </tr>\n",
       "    <tr>\n",
       "      <th>2</th>\n",
       "      <td>2020-04-01</td>\n",
       "      <td>3</td>\n",
       "      <td>3</td>\n",
       "      <td>2</td>\n",
       "      <td>All American</td>\n",
       "      <td>TV Show</td>\n",
       "      <td>NaN</td>\n",
       "      <td>Mar 28, 2019</td>\n",
       "      <td>9</td>\n",
       "      <td>76</td>\n",
       "    </tr>\n",
       "    <tr>\n",
       "      <th>3</th>\n",
       "      <td>2020-04-01</td>\n",
       "      <td>4</td>\n",
       "      <td>4</td>\n",
       "      <td>-</td>\n",
       "      <td>Blood Father</td>\n",
       "      <td>Movie</td>\n",
       "      <td>NaN</td>\n",
       "      <td>Mar 26, 2020</td>\n",
       "      <td>5</td>\n",
       "      <td>30</td>\n",
       "    </tr>\n",
       "    <tr>\n",
       "      <th>4</th>\n",
       "      <td>2020-04-01</td>\n",
       "      <td>5</td>\n",
       "      <td>5</td>\n",
       "      <td>4</td>\n",
       "      <td>The Platform</td>\n",
       "      <td>Movie</td>\n",
       "      <td>Yes</td>\n",
       "      <td>Mar 20, 2020</td>\n",
       "      <td>9</td>\n",
       "      <td>55</td>\n",
       "    </tr>\n",
       "  </tbody>\n",
       "</table>\n",
       "</div>"
      ],
      "text/plain": [
       "        As of  Rank Year to Date Rank Last Week Rank  \\\n",
       "0  2020-04-01     1                 1              1   \n",
       "1  2020-04-01     2                 2              -   \n",
       "2  2020-04-01     3                 3              2   \n",
       "3  2020-04-01     4                 4              -   \n",
       "4  2020-04-01     5                 5              4   \n",
       "\n",
       "                          Title     Type Netflix Exclusive  \\\n",
       "0  Tiger King: Murder, Mayhem …  TV Show               Yes   \n",
       "1                         Ozark  TV Show               Yes   \n",
       "2                  All American  TV Show               NaN   \n",
       "3                  Blood Father    Movie               NaN   \n",
       "4                  The Platform    Movie               Yes   \n",
       "\n",
       "  Netflix Release Date  Days In Top 10  Viewership Score  \n",
       "0         Mar 20, 2020               9                90  \n",
       "1         Jul 21, 2017               5                45  \n",
       "2         Mar 28, 2019               9                76  \n",
       "3         Mar 26, 2020               5                30  \n",
       "4         Mar 20, 2020               9                55  "
      ]
     },
     "execution_count": 62,
     "metadata": {},
     "output_type": "execute_result"
    }
   ],
   "source": [
    "df_net.head()"
   ]
  },
  {
   "cell_type": "code",
   "execution_count": 63,
   "metadata": {},
   "outputs": [
    {
     "name": "stdout",
     "output_type": "stream",
     "text": [
      "<class 'pandas.core.frame.DataFrame'>\n",
      "RangeIndex: 7100 entries, 0 to 7099\n",
      "Data columns (total 10 columns):\n",
      " #   Column                Non-Null Count  Dtype \n",
      "---  ------                --------------  ----- \n",
      " 0   As of                 7100 non-null   object\n",
      " 1   Rank                  7100 non-null   int64 \n",
      " 2   Year to Date Rank     7100 non-null   object\n",
      " 3   Last Week Rank        7100 non-null   object\n",
      " 4   Title                 7100 non-null   object\n",
      " 5   Type                  7100 non-null   object\n",
      " 6   Netflix Exclusive     4599 non-null   object\n",
      " 7   Netflix Release Date  7100 non-null   object\n",
      " 8   Days In Top 10        7100 non-null   int64 \n",
      " 9   Viewership Score      7100 non-null   int64 \n",
      "dtypes: int64(3), object(7)\n",
      "memory usage: 554.8+ KB\n"
     ]
    }
   ],
   "source": [
    "df_net.info()"
   ]
  },
  {
   "cell_type": "code",
   "execution_count": 67,
   "metadata": {},
   "outputs": [
    {
     "data": {
      "text/html": [
       "<div>\n",
       "<style scoped>\n",
       "    .dataframe tbody tr th:only-of-type {\n",
       "        vertical-align: middle;\n",
       "    }\n",
       "\n",
       "    .dataframe tbody tr th {\n",
       "        vertical-align: top;\n",
       "    }\n",
       "\n",
       "    .dataframe thead th {\n",
       "        text-align: right;\n",
       "    }\n",
       "</style>\n",
       "<table border=\"1\" class=\"dataframe\">\n",
       "  <thead>\n",
       "    <tr style=\"text-align: right;\">\n",
       "      <th></th>\n",
       "      <th>total_rank</th>\n",
       "      <th>day_top_ten</th>\n",
       "      <th>viewer_score</th>\n",
       "    </tr>\n",
       "  </thead>\n",
       "  <tbody>\n",
       "    <tr>\n",
       "      <th>count</th>\n",
       "      <td>7100.000000</td>\n",
       "      <td>7100.000000</td>\n",
       "      <td>7100.000000</td>\n",
       "    </tr>\n",
       "    <tr>\n",
       "      <th>mean</th>\n",
       "      <td>5.500000</td>\n",
       "      <td>24.123662</td>\n",
       "      <td>122.790141</td>\n",
       "    </tr>\n",
       "    <tr>\n",
       "      <th>std</th>\n",
       "      <td>2.872484</td>\n",
       "      <td>58.473789</td>\n",
       "      <td>213.861642</td>\n",
       "    </tr>\n",
       "    <tr>\n",
       "      <th>min</th>\n",
       "      <td>1.000000</td>\n",
       "      <td>1.000000</td>\n",
       "      <td>1.000000</td>\n",
       "    </tr>\n",
       "    <tr>\n",
       "      <th>25%</th>\n",
       "      <td>3.000000</td>\n",
       "      <td>3.000000</td>\n",
       "      <td>19.000000</td>\n",
       "    </tr>\n",
       "    <tr>\n",
       "      <th>50%</th>\n",
       "      <td>5.500000</td>\n",
       "      <td>7.000000</td>\n",
       "      <td>50.000000</td>\n",
       "    </tr>\n",
       "    <tr>\n",
       "      <th>75%</th>\n",
       "      <td>8.000000</td>\n",
       "      <td>18.000000</td>\n",
       "      <td>128.000000</td>\n",
       "    </tr>\n",
       "    <tr>\n",
       "      <th>max</th>\n",
       "      <td>10.000000</td>\n",
       "      <td>428.000000</td>\n",
       "      <td>1474.000000</td>\n",
       "    </tr>\n",
       "  </tbody>\n",
       "</table>\n",
       "</div>"
      ],
      "text/plain": [
       "        total_rank  day_top_ten  viewer_score\n",
       "count  7100.000000  7100.000000   7100.000000\n",
       "mean      5.500000    24.123662    122.790141\n",
       "std       2.872484    58.473789    213.861642\n",
       "min       1.000000     1.000000      1.000000\n",
       "25%       3.000000     3.000000     19.000000\n",
       "50%       5.500000     7.000000     50.000000\n",
       "75%       8.000000    18.000000    128.000000\n",
       "max      10.000000   428.000000   1474.000000"
      ]
     },
     "execution_count": 67,
     "metadata": {},
     "output_type": "execute_result"
    }
   ],
   "source": [
    "df_net.describe()"
   ]
  },
  {
   "cell_type": "markdown",
   "metadata": {},
   "source": [
    "## Transform"
   ]
  },
  {
   "cell_type": "markdown",
   "metadata": {},
   "source": [
    "### Columns rename"
   ]
  },
  {
   "cell_type": "code",
   "execution_count": 64,
   "metadata": {},
   "outputs": [],
   "source": [
    "df_net.columns = [\n",
    "    'date_ref', 'total_rank', 'rank_ytd', 'rank_last_week', 'title', 'type', 'netflix_exclusive', 'netflix_realease_date', 'day_top_ten', 'viewer_score'\n",
    "]"
   ]
  },
  {
   "cell_type": "markdown",
   "metadata": {},
   "source": [
    "### Column Rank to numeric"
   ]
  },
  {
   "cell_type": "code",
   "execution_count": 65,
   "metadata": {},
   "outputs": [],
   "source": [
    "df_net.total_rank = pd.to_numeric(df_net.total_rank)"
   ]
  },
  {
   "cell_type": "code",
   "execution_count": 66,
   "metadata": {},
   "outputs": [
    {
     "name": "stdout",
     "output_type": "stream",
     "text": [
      "<class 'pandas.core.frame.DataFrame'>\n",
      "RangeIndex: 7100 entries, 0 to 7099\n",
      "Data columns (total 10 columns):\n",
      " #   Column                 Non-Null Count  Dtype \n",
      "---  ------                 --------------  ----- \n",
      " 0   date_ref               7100 non-null   object\n",
      " 1   total_rank             7100 non-null   int64 \n",
      " 2   rank_ytd               7100 non-null   object\n",
      " 3   rank_last_week         7100 non-null   object\n",
      " 4   title                  7100 non-null   object\n",
      " 5   type                   7100 non-null   object\n",
      " 6   netflix_exclusive      4599 non-null   object\n",
      " 7   netflix_realease_date  7100 non-null   object\n",
      " 8   day_top_ten            7100 non-null   int64 \n",
      " 9   viewer_score           7100 non-null   int64 \n",
      "dtypes: int64(3), object(7)\n",
      "memory usage: 554.8+ KB\n"
     ]
    }
   ],
   "source": [
    "df_net.info()"
   ]
  },
  {
   "cell_type": "markdown",
   "metadata": {},
   "source": [
    "### Missing Values"
   ]
  },
  {
   "cell_type": "code",
   "execution_count": 68,
   "metadata": {},
   "outputs": [
    {
     "data": {
      "text/plain": [
       "date_ref                    0\n",
       "total_rank                  0\n",
       "rank_ytd                    0\n",
       "rank_last_week              0\n",
       "title                       0\n",
       "type                        0\n",
       "netflix_exclusive        2501\n",
       "netflix_realease_date       0\n",
       "day_top_ten                 0\n",
       "viewer_score                0\n",
       "dtype: int64"
      ]
     },
     "execution_count": 68,
     "metadata": {},
     "output_type": "execute_result"
    }
   ],
   "source": [
    "df_net.isna().sum()"
   ]
  },
  {
   "cell_type": "code",
   "execution_count": 69,
   "metadata": {},
   "outputs": [],
   "source": [
    "df_net.fillna(value={\n",
    "    'netflix_exclusive': 'Not Informed'\n",
    "}, inplace=True)"
   ]
  },
  {
   "cell_type": "code",
   "execution_count": 70,
   "metadata": {},
   "outputs": [
    {
     "data": {
      "text/plain": [
       "date_ref                 0\n",
       "total_rank               0\n",
       "rank_ytd                 0\n",
       "rank_last_week           0\n",
       "title                    0\n",
       "type                     0\n",
       "netflix_exclusive        0\n",
       "netflix_realease_date    0\n",
       "day_top_ten              0\n",
       "viewer_score             0\n",
       "dtype: int64"
      ]
     },
     "execution_count": 70,
     "metadata": {},
     "output_type": "execute_result"
    }
   ],
   "source": [
    "df_net.isna().sum()"
   ]
  },
  {
   "cell_type": "markdown",
   "metadata": {},
   "source": [
    "## Analysis"
   ]
  },
  {
   "cell_type": "markdown",
   "metadata": {},
   "source": [
    "### Univariate Analysis"
   ]
  },
  {
   "cell_type": "markdown",
   "metadata": {},
   "source": [
    "#### Type\n"
   ]
  },
  {
   "cell_type": "code",
   "execution_count": 71,
   "metadata": {},
   "outputs": [
    {
     "data": {
      "text/plain": [
       "array(['TV Show', 'Movie', 'Stand-Up Comedy', 'Concert/Perf…'],\n",
       "      dtype=object)"
      ]
     },
     "execution_count": 71,
     "metadata": {},
     "output_type": "execute_result"
    }
   ],
   "source": [
    "df_net.type.unique()"
   ]
  },
  {
   "cell_type": "code",
   "execution_count": 72,
   "metadata": {},
   "outputs": [
    {
     "data": {
      "text/plain": [
       "type\n",
       "TV Show            4446\n",
       "Movie              2611\n",
       "Stand-Up Comedy      41\n",
       "Concert/Perf…         2\n",
       "Name: count, dtype: int64"
      ]
     },
     "execution_count": 72,
     "metadata": {},
     "output_type": "execute_result"
    }
   ],
   "source": [
    "df_net.type.value_counts()"
   ]
  },
  {
   "cell_type": "code",
   "execution_count": 73,
   "metadata": {},
   "outputs": [
    {
     "data": {
      "text/plain": [
       "type\n",
       "TV Show            0.626197\n",
       "Movie              0.367746\n",
       "Stand-Up Comedy    0.005775\n",
       "Concert/Perf…      0.000282\n",
       "Name: proportion, dtype: float64"
      ]
     },
     "execution_count": 73,
     "metadata": {},
     "output_type": "execute_result"
    }
   ],
   "source": [
    "df_net.type.value_counts(normalize=True)"
   ]
  },
  {
   "cell_type": "code",
   "execution_count": 74,
   "metadata": {},
   "outputs": [
    {
     "data": {
      "text/plain": [
       "[Text(0, 0, '4446'), Text(0, 0, '2611'), Text(0, 0, '41'), Text(0, 0, '2')]"
      ]
     },
     "execution_count": 74,
     "metadata": {},
     "output_type": "execute_result"
    },
    {
     "data": {
      "image/png": "[encoded data removed]",
      "text/plain": [
       "<Figure size 640x480 with 1 Axes>"
      ]
     },
     "metadata": {},
     "output_type": "display_data"
    }
   ],
   "source": [
    "ax = df_net.type.value_counts().plot.bar()\n",
    "ax.bar_label(ax.containers[0])"
   ]
  },
  {
   "cell_type": "code",
   "execution_count": 75,
   "metadata": {},
   "outputs": [
    {
     "data": {
      "text/plain": [
       "[Text(0, 0, '62.62'),\n",
       " Text(0, 0, '36.77'),\n",
       " Text(0, 0, '0.58'),\n",
       " Text(0, 0, '0.03')]"
      ]
     },
     "execution_count": 75,
     "metadata": {},
     "output_type": "execute_result"
    },
    {
     "data": {
      "image/png": "[encoded data removed]",
      "text/plain": [
       "<Figure size 640x480 with 1 Axes>"
      ]
     },
     "metadata": {},
     "output_type": "display_data"
    }
   ],
   "source": [
    "ax = round(df_net.type.value_counts(normalize=True) * 100,2).plot.bar()\n",
    "ax.bar_label(ax.containers[0], label_type='edge')"
   ]
  },
  {
   "cell_type": "markdown",
   "metadata": {},
   "source": [
    "##### Type conclusion\n",
    "\n",
    "This dataset has four types of products, where TV Show and Movie are the most frequent reaching 62,6% and 36,7%. The rest is composed by Stand Up Comedy show and concerts."
   ]
  },
  {
   "cell_type": "markdown",
   "metadata": {},
   "source": [
    "#### Netflix Exclusive"
   ]
  },
  {
   "cell_type": "code",
   "execution_count": 76,
   "metadata": {},
   "outputs": [
    {
     "data": {
      "text/plain": [
       "array(['Yes', 'Not Informed'], dtype=object)"
      ]
     },
     "execution_count": 76,
     "metadata": {},
     "output_type": "execute_result"
    }
   ],
   "source": [
    "df_net.netflix_exclusive.unique()"
   ]
  },
  {
   "cell_type": "code",
   "execution_count": 77,
   "metadata": {},
   "outputs": [
    {
     "data": {
      "text/plain": [
       "netflix_exclusive\n",
       "Yes             4599\n",
       "Not Informed    2501\n",
       "Name: count, dtype: int64"
      ]
     },
     "execution_count": 77,
     "metadata": {},
     "output_type": "execute_result"
    }
   ],
   "source": [
    "df_net.netflix_exclusive.value_counts()"
   ]
  },
  {
   "cell_type": "code",
   "execution_count": 78,
   "metadata": {},
   "outputs": [
    {
     "data": {
      "text/plain": [
       "netflix_exclusive\n",
       "Yes             0.647746\n",
       "Not Informed    0.352254\n",
       "Name: proportion, dtype: float64"
      ]
     },
     "execution_count": 78,
     "metadata": {},
     "output_type": "execute_result"
    }
   ],
   "source": [
    "df_net.netflix_exclusive.value_counts(normalize=True)"
   ]
  },
  {
   "cell_type": "code",
   "execution_count": 79,
   "metadata": {},
   "outputs": [
    {
     "data": {
      "text/plain": [
       "[Text(0, 0, '4599'), Text(0, 0, '2501')]"
      ]
     },
     "execution_count": 79,
     "metadata": {},
     "output_type": "execute_result"
    },
    {
     "data": {
      "image/png": "[encoded data removed]",
      "text/plain": [
       "<Figure size 640x480 with 1 Axes>"
      ]
     },
     "metadata": {},
     "output_type": "display_data"
    }
   ],
   "source": [
    "ax = df_net.netflix_exclusive.value_counts().plot.bar()\n",
    "ax.bar_label(ax.containers[0])"
   ]
  },
  {
   "cell_type": "code",
   "execution_count": 80,
   "metadata": {},
   "outputs": [
    {
     "data": {
      "text/plain": [
       "[Text(0, 0, '64.77'), Text(0, 0, '35.23')]"
      ]
     },
     "execution_count": 80,
     "metadata": {},
     "output_type": "execute_result"
    },
    {
     "data": {
      "image/png": "[encoded data removed]",
      "text/plain": [
       "<Figure size 640x480 with 1 Axes>"
      ]
     },
     "metadata": {},
     "output_type": "display_data"
    }
   ],
   "source": [
    "ax = round(df_net.netflix_exclusive.value_counts(normalize=True) * 100 ,2).plot.bar()\n",
    "ax.bar_label(ax.containers[0])"
   ]
  },
  {
   "cell_type": "markdown",
   "metadata": {},
   "source": [
    "##### Netflix Exclusive Conclusion\n",
    "\n",
    "When the subject is exclusiveness, 64.7% of this dataset are netflix exclusive products. The rest are not informed, but we could assume that they're not exclusive."
   ]
  },
  {
   "cell_type": "markdown",
   "metadata": {},
   "source": [
    "#### Time window"
   ]
  },
  {
   "cell_type": "code",
   "execution_count": 81,
   "metadata": {},
   "outputs": [
    {
     "data": {
      "text/plain": [
       "710"
      ]
     },
     "execution_count": 81,
     "metadata": {},
     "output_type": "execute_result"
    }
   ],
   "source": [
    "df_net.date_ref.nunique()"
   ]
  },
  {
   "cell_type": "code",
   "execution_count": 82,
   "metadata": {},
   "outputs": [
    {
     "data": {
      "text/plain": [
       "'2020-04-01'"
      ]
     },
     "execution_count": 82,
     "metadata": {},
     "output_type": "execute_result"
    }
   ],
   "source": [
    "df_net.date_ref.min()"
   ]
  },
  {
   "cell_type": "code",
   "execution_count": 83,
   "metadata": {},
   "outputs": [
    {
     "data": {
      "text/plain": [
       "'2022-03-11'"
      ]
     },
     "execution_count": 83,
     "metadata": {},
     "output_type": "execute_result"
    }
   ],
   "source": [
    "df_net.date_ref.max()"
   ]
  },
  {
   "cell_type": "markdown",
   "metadata": {},
   "source": [
    "This dataset contains data from January 4th, 2020 up to March 11th, 2022, counting 710 days"
   ]
  },
  {
   "cell_type": "markdown",
   "metadata": {},
   "source": [
    "#### Movies"
   ]
  },
  {
   "cell_type": "code",
   "execution_count": 84,
   "metadata": {},
   "outputs": [
    {
     "data": {
      "text/plain": [
       "645"
      ]
     },
     "execution_count": 84,
     "metadata": {},
     "output_type": "execute_result"
    }
   ],
   "source": [
    "df_net.title.nunique()"
   ]
  },
  {
   "cell_type": "markdown",
   "metadata": {},
   "source": [
    "### Days In Top 10"
   ]
  },
  {
   "cell_type": "code",
   "execution_count": 92,
   "metadata": {},
   "outputs": [
    {
     "data": {
      "text/plain": [
       "total_rank         Axes(0.125,0.11;0.227941x0.77)\n",
       "day_top_ten     Axes(0.398529,0.11;0.227941x0.77)\n",
       "viewer_score    Axes(0.672059,0.11;0.227941x0.77)\n",
       "dtype: object"
      ]
     },
     "execution_count": 92,
     "metadata": {},
     "output_type": "execute_result"
    },
    {
     "data": {
      "image/png": "[encoded data removed]",
      "text/plain": [
       "<Figure size 1000x600 with 3 Axes>"
      ]
     },
     "metadata": {},
     "output_type": "display_data"
    }
   ],
   "source": [
    "df_net.plot(kind='box', figsize=(10,6), subplots=True)"
   ]
  },
  {
   "cell_type": "markdown",
   "metadata": {},
   "source": []
  },
  {
   "cell_type": "markdown",
   "metadata": {},
   "source": [
    "## Outliers"
   ]
  },
  {
   "cell_type": "code",
   "execution_count": 94,
   "metadata": {},
   "outputs": [
    {
     "data": {
      "text/html": [
       "<div>\n",
       "<style scoped>\n",
       "    .dataframe tbody tr th:only-of-type {\n",
       "        vertical-align: middle;\n",
       "    }\n",
       "\n",
       "    .dataframe tbody tr th {\n",
       "        vertical-align: top;\n",
       "    }\n",
       "\n",
       "    .dataframe thead th {\n",
       "        text-align: right;\n",
       "    }\n",
       "</style>\n",
       "<table border=\"1\" class=\"dataframe\">\n",
       "  <thead>\n",
       "    <tr style=\"text-align: right;\">\n",
       "      <th></th>\n",
       "      <th>date_ref</th>\n",
       "      <th>total_rank</th>\n",
       "      <th>rank_ytd</th>\n",
       "      <th>rank_last_week</th>\n",
       "      <th>title</th>\n",
       "      <th>type</th>\n",
       "      <th>netflix_exclusive</th>\n",
       "      <th>netflix_realease_date</th>\n",
       "      <th>day_top_ten</th>\n",
       "      <th>viewer_score</th>\n",
       "    </tr>\n",
       "  </thead>\n",
       "  <tbody>\n",
       "    <tr>\n",
       "      <th>2886</th>\n",
       "      <td>2021-01-14</td>\n",
       "      <td>7</td>\n",
       "      <td>6</td>\n",
       "      <td>8</td>\n",
       "      <td>Cocomelon</td>\n",
       "      <td>TV Show</td>\n",
       "      <td>Not Informed</td>\n",
       "      <td>Jun 1, 2020</td>\n",
       "      <td>100</td>\n",
       "      <td>287</td>\n",
       "    </tr>\n",
       "    <tr>\n",
       "      <th>2896</th>\n",
       "      <td>2021-01-15</td>\n",
       "      <td>7</td>\n",
       "      <td>7</td>\n",
       "      <td>10</td>\n",
       "      <td>Cocomelon</td>\n",
       "      <td>TV Show</td>\n",
       "      <td>Not Informed</td>\n",
       "      <td>Jun 1, 2020</td>\n",
       "      <td>101</td>\n",
       "      <td>291</td>\n",
       "    </tr>\n",
       "    <tr>\n",
       "      <th>2909</th>\n",
       "      <td>2021-01-16</td>\n",
       "      <td>10</td>\n",
       "      <td>7</td>\n",
       "      <td>9</td>\n",
       "      <td>Cocomelon</td>\n",
       "      <td>TV Show</td>\n",
       "      <td>Not Informed</td>\n",
       "      <td>Jun 1, 2020</td>\n",
       "      <td>102</td>\n",
       "      <td>292</td>\n",
       "    </tr>\n",
       "    <tr>\n",
       "      <th>2919</th>\n",
       "      <td>2021-01-17</td>\n",
       "      <td>10</td>\n",
       "      <td>10</td>\n",
       "      <td>9</td>\n",
       "      <td>Cocomelon</td>\n",
       "      <td>TV Show</td>\n",
       "      <td>Not Informed</td>\n",
       "      <td>Jun 1, 2020</td>\n",
       "      <td>103</td>\n",
       "      <td>293</td>\n",
       "    </tr>\n",
       "    <tr>\n",
       "      <th>3019</th>\n",
       "      <td>2021-01-27</td>\n",
       "      <td>10</td>\n",
       "      <td>-</td>\n",
       "      <td>-</td>\n",
       "      <td>Cocomelon</td>\n",
       "      <td>TV Show</td>\n",
       "      <td>Not Informed</td>\n",
       "      <td>Jun 1, 2020</td>\n",
       "      <td>104</td>\n",
       "      <td>294</td>\n",
       "    </tr>\n",
       "    <tr>\n",
       "      <th>...</th>\n",
       "      <td>...</td>\n",
       "      <td>...</td>\n",
       "      <td>...</td>\n",
       "      <td>...</td>\n",
       "      <td>...</td>\n",
       "      <td>...</td>\n",
       "      <td>...</td>\n",
       "      <td>...</td>\n",
       "      <td>...</td>\n",
       "      <td>...</td>\n",
       "    </tr>\n",
       "    <tr>\n",
       "      <th>6674</th>\n",
       "      <td>2022-01-28</td>\n",
       "      <td>5</td>\n",
       "      <td>6</td>\n",
       "      <td>-</td>\n",
       "      <td>Cocomelon</td>\n",
       "      <td>TV Show</td>\n",
       "      <td>Not Informed</td>\n",
       "      <td>Jun 1, 2020</td>\n",
       "      <td>424</td>\n",
       "      <td>1466</td>\n",
       "    </tr>\n",
       "    <tr>\n",
       "      <th>6687</th>\n",
       "      <td>2022-01-29</td>\n",
       "      <td>8</td>\n",
       "      <td>5</td>\n",
       "      <td>8</td>\n",
       "      <td>Cocomelon</td>\n",
       "      <td>TV Show</td>\n",
       "      <td>Not Informed</td>\n",
       "      <td>Jun 1, 2020</td>\n",
       "      <td>425</td>\n",
       "      <td>1469</td>\n",
       "    </tr>\n",
       "    <tr>\n",
       "      <th>6718</th>\n",
       "      <td>2022-02-01</td>\n",
       "      <td>9</td>\n",
       "      <td>-</td>\n",
       "      <td>7</td>\n",
       "      <td>Cocomelon</td>\n",
       "      <td>TV Show</td>\n",
       "      <td>Not Informed</td>\n",
       "      <td>Jun 1, 2020</td>\n",
       "      <td>426</td>\n",
       "      <td>1471</td>\n",
       "    </tr>\n",
       "    <tr>\n",
       "      <th>6959</th>\n",
       "      <td>2022-02-25</td>\n",
       "      <td>10</td>\n",
       "      <td>-</td>\n",
       "      <td>-</td>\n",
       "      <td>Cocomelon</td>\n",
       "      <td>TV Show</td>\n",
       "      <td>Not Informed</td>\n",
       "      <td>Jun 1, 2020</td>\n",
       "      <td>427</td>\n",
       "      <td>1472</td>\n",
       "    </tr>\n",
       "    <tr>\n",
       "      <th>6998</th>\n",
       "      <td>2022-03-01</td>\n",
       "      <td>9</td>\n",
       "      <td>-</td>\n",
       "      <td>-</td>\n",
       "      <td>Cocomelon</td>\n",
       "      <td>TV Show</td>\n",
       "      <td>Not Informed</td>\n",
       "      <td>Jun 1, 2020</td>\n",
       "      <td>428</td>\n",
       "      <td>1474</td>\n",
       "    </tr>\n",
       "  </tbody>\n",
       "</table>\n",
       "<p>329 rows × 10 columns</p>\n",
       "</div>"
      ],
      "text/plain": [
       "        date_ref  total_rank rank_ytd rank_last_week      title     type  \\\n",
       "2886  2021-01-14           7        6              8  Cocomelon  TV Show   \n",
       "2896  2021-01-15           7        7             10  Cocomelon  TV Show   \n",
       "2909  2021-01-16          10        7              9  Cocomelon  TV Show   \n",
       "2919  2021-01-17          10       10              9  Cocomelon  TV Show   \n",
       "3019  2021-01-27          10        -              -  Cocomelon  TV Show   \n",
       "...          ...         ...      ...            ...        ...      ...   \n",
       "6674  2022-01-28           5        6              -  Cocomelon  TV Show   \n",
       "6687  2022-01-29           8        5              8  Cocomelon  TV Show   \n",
       "6718  2022-02-01           9        -              7  Cocomelon  TV Show   \n",
       "6959  2022-02-25          10        -              -  Cocomelon  TV Show   \n",
       "6998  2022-03-01           9        -              -  Cocomelon  TV Show   \n",
       "\n",
       "     netflix_exclusive netflix_realease_date  day_top_ten  viewer_score  \n",
       "2886      Not Informed           Jun 1, 2020          100           287  \n",
       "2896      Not Informed           Jun 1, 2020          101           291  \n",
       "2909      Not Informed           Jun 1, 2020          102           292  \n",
       "2919      Not Informed           Jun 1, 2020          103           293  \n",
       "3019      Not Informed           Jun 1, 2020          104           294  \n",
       "...                ...                   ...          ...           ...  \n",
       "6674      Not Informed           Jun 1, 2020          424          1466  \n",
       "6687      Not Informed           Jun 1, 2020          425          1469  \n",
       "6718      Not Informed           Jun 1, 2020          426          1471  \n",
       "6959      Not Informed           Jun 1, 2020          427          1472  \n",
       "6998      Not Informed           Jun 1, 2020          428          1474  \n",
       "\n",
       "[329 rows x 10 columns]"
      ]
     },
     "execution_count": 94,
     "metadata": {},
     "output_type": "execute_result"
    }
   ],
   "source": [
    "# Movies with 100 or more days ins top 10\n",
    "df_net[df_net.day_top_ten >= 100]"
   ]
  },
  {
   "cell_type": "code",
   "execution_count": 95,
   "metadata": {},
   "outputs": [
    {
     "data": {
      "text/plain": [
       "title\n",
       "Cocomelon                       428\n",
       "Ozark                            85\n",
       "Cobra Kai                        81\n",
       "Manifest                         80\n",
       "The Queenâs Gambit             73\n",
       "                               ... \n",
       "The Office                        1\n",
       "Animals on the Loose: A You…      1\n",
       "Dark                              1\n",
       "The Secret Life of Pets 2         1\n",
       "Step Up Revolution                1\n",
       "Name: count, Length: 645, dtype: int64"
      ]
     },
     "execution_count": 95,
     "metadata": {},
     "output_type": "execute_result"
    }
   ],
   "source": [
    "# How many times each movie showed up in top 10\n",
    "df_net.title.value_counts()"
   ]
  },
  {
   "cell_type": "code",
   "execution_count": 96,
   "metadata": {},
   "outputs": [
    {
     "data": {
      "text/plain": [
       "<Axes: >"
      ]
     },
     "execution_count": 96,
     "metadata": {},
     "output_type": "execute_result"
    },
    {
     "data": {
      "image/png": "[encoded data removed]",
      "text/plain": [
       "<Figure size 640x480 with 1 Axes>"
      ]
     },
     "metadata": {},
     "output_type": "display_data"
    }
   ],
   "source": [
    "# frequency of films based on viewership score\n",
    "df_net.viewer_score.hist()"
   ]
  },
  {
   "cell_type": "code",
   "execution_count": 97,
   "metadata": {},
   "outputs": [
    {
     "data": {
      "text/html": [
       "<div>\n",
       "<style scoped>\n",
       "    .dataframe tbody tr th:only-of-type {\n",
       "        vertical-align: middle;\n",
       "    }\n",
       "\n",
       "    .dataframe tbody tr th {\n",
       "        vertical-align: top;\n",
       "    }\n",
       "\n",
       "    .dataframe thead th {\n",
       "        text-align: right;\n",
       "    }\n",
       "</style>\n",
       "<table border=\"1\" class=\"dataframe\">\n",
       "  <thead>\n",
       "    <tr style=\"text-align: right;\">\n",
       "      <th></th>\n",
       "      <th>date_ref</th>\n",
       "      <th>total_rank</th>\n",
       "      <th>rank_ytd</th>\n",
       "      <th>rank_last_week</th>\n",
       "      <th>title</th>\n",
       "      <th>type</th>\n",
       "      <th>netflix_exclusive</th>\n",
       "      <th>netflix_realease_date</th>\n",
       "      <th>day_top_ten</th>\n",
       "      <th>viewer_score</th>\n",
       "    </tr>\n",
       "  </thead>\n",
       "  <tbody>\n",
       "    <tr>\n",
       "      <th>6998</th>\n",
       "      <td>2022-03-01</td>\n",
       "      <td>9</td>\n",
       "      <td>-</td>\n",
       "      <td>-</td>\n",
       "      <td>Cocomelon</td>\n",
       "      <td>TV Show</td>\n",
       "      <td>Not Informed</td>\n",
       "      <td>Jun 1, 2020</td>\n",
       "      <td>428</td>\n",
       "      <td>1474</td>\n",
       "    </tr>\n",
       "  </tbody>\n",
       "</table>\n",
       "</div>"
      ],
      "text/plain": [
       "        date_ref  total_rank rank_ytd rank_last_week      title     type  \\\n",
       "6998  2022-03-01           9        -              -  Cocomelon  TV Show   \n",
       "\n",
       "     netflix_exclusive netflix_realease_date  day_top_ten  viewer_score  \n",
       "6998      Not Informed           Jun 1, 2020          428          1474  "
      ]
     },
     "execution_count": 97,
     "metadata": {},
     "output_type": "execute_result"
    }
   ],
   "source": [
    "# who's the movie with the highest viewership score\n",
    "df_net[df_net.viewer_score == df_net.viewer_score.max()]"
   ]
  }
 ],
 "metadata": {
  "kernelspec": {
   "display_name": "eda-9OlnrpNw",
   "language": "python",
   "name": "python3"
  },
  "language_info": {
   "codemirror_mode": {
    "name": "ipython",
    "version": 3
   },
   "file_extension": ".py",
   "mimetype": "text/x-python",
   "name": "python",
   "nbconvert_exporter": "python",
   "pygments_lexer": "ipython3",
   "version": "3.11.0"
  }
 },
 "nbformat": 4,
 "nbformat_minor": 2
}
